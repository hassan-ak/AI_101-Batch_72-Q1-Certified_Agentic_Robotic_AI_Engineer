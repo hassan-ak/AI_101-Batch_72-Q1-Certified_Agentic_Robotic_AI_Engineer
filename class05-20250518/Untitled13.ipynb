{
  "nbformat": 4,
  "nbformat_minor": 0,
  "metadata": {
    "colab": {
      "provenance": []
    },
    "kernelspec": {
      "name": "python3",
      "display_name": "Python 3"
    },
    "language_info": {
      "name": "python"
    }
  },
  "cells": [
    {
      "cell_type": "code",
      "execution_count": null,
      "metadata": {
        "id": "rR0GEWGCslnV"
      },
      "outputs": [],
      "source": []
    },
    {
      "cell_type": "markdown",
      "source": [
        "if statements"
      ],
      "metadata": {
        "id": "ywjU4jCZssbj"
      }
    },
    {
      "cell_type": "code",
      "source": [
        "# = (assigment operatpor)\n",
        "first_Name = 'Jahanzaib'\n",
        "\n",
        "# logical Opertor (and , or , not)\n",
        "\n",
        "# and\n",
        "# T T = T\n",
        "# T F = F\n",
        "# F T = F\n",
        "# F F = F\n",
        "\n",
        "# OR\n",
        "# T T = T\n",
        "# T F = T\n",
        "# F T = T\n",
        "# F F = F\n",
        "\n",
        "# not\n",
        "# !T = F\n",
        "# !F = T\n",
        "\n",
        "# == (compare)\n",
        "# T == T => T\n",
        "\n",
        "# >=  (greater than or equal)\n",
        "# >  (greater than)\n",
        "# < (less than)\n",
        "# <=  (less than or equal)\n"
      ],
      "metadata": {
        "id": "BRgbGKg_swl6"
      },
      "execution_count": null,
      "outputs": []
    },
    {
      "cell_type": "code",
      "source": [
        "# if condition :\n",
        "\n",
        "first_Name= 'Jahanzaib'\n",
        "\n",
        "print(\"Independent Block\")\n",
        "\n",
        "if first_Name == 'jahanzaib':\n",
        "  print(\"True Case\")\n",
        "  print(\"True Case 2\")\n",
        "\n",
        "print(\"Independent Block 2\")\n",
        "\n",
        "if first_Name =='Jahanzaib':\n",
        "  print(\"True Case 3\")\n",
        "else:\n",
        "  print(\"False Case\")"
      ],
      "metadata": {
        "colab": {
          "base_uri": "https://localhost:8080/"
        },
        "id": "tQOKmndZut0D",
        "outputId": "a6238479-813d-48c1-a038-3da3db421d6f"
      },
      "execution_count": null,
      "outputs": [
        {
          "output_type": "stream",
          "name": "stdout",
          "text": [
            "Independent Block\n",
            "Independent Block 2\n"
          ]
        }
      ]
    },
    {
      "cell_type": "code",
      "source": [
        "age= 25\n",
        "\n",
        "if age == 25:\n",
        "  print(\"True Case\")\n",
        "else:\n",
        "  print(\"False Case\")"
      ],
      "metadata": {
        "colab": {
          "base_uri": "https://localhost:8080/"
        },
        "id": "ZuyKFjaJxHVW",
        "outputId": "f20e850a-010a-4bb4-d637-cd337c87aa38"
      },
      "execution_count": null,
      "outputs": [
        {
          "output_type": "stream",
          "name": "stdout",
          "text": [
            "True Case\n"
          ]
        }
      ]
    },
    {
      "cell_type": "code",
      "source": [
        "age=24\n",
        "\n",
        "if age <= 25:\n",
        "  print(\"Age 25\")"
      ],
      "metadata": {
        "colab": {
          "base_uri": "https://localhost:8080/"
        },
        "id": "BZd9pmTsxY9u",
        "outputId": "7af6840d-e523-485d-93f3-c78a36fb033f"
      },
      "execution_count": null,
      "outputs": [
        {
          "output_type": "stream",
          "name": "stdout",
          "text": [
            "Age 25\n"
          ]
        }
      ]
    },
    {
      "cell_type": "code",
      "source": [
        "# logical (and , OR , Not)\n",
        "# 2 conditions ko combine krty ha\n",
        "\n",
        "age = 24\n",
        "country ='Pakistan'\n",
        "\n",
        "# And (and)\n",
        "# T T = T\n",
        "# T F = F\n",
        "# F T = F\n",
        "# F F = F\n",
        "\n",
        "if age >=25 and country == 'Pakistan':\n",
        "  print(\"You are adualt Pakistani\")\n",
        "else:\n",
        "  print(\"You are not a pakistani adult\")\n",
        "\n",
        "\n",
        "# OR (or)\n",
        "# T T = T\n",
        "# T F = T\n",
        "# F T = T\n",
        "# F F = F\n",
        "\n",
        "\n",
        "# age = 24 country ='Pakistan'\n",
        "# F T = T\n",
        "if age >=25 or country == 'Pakistan':\n",
        "  print(\"You are adualt Pakistani OR if case\")\n",
        "else:\n",
        "  print(\"You are not a pakistani adult OR else case\")\n",
        "\n",
        "# not\n",
        "# !T = F\n",
        "# !F = T\n",
        "\n",
        "\n",
        "# age = 24 country ='Pakistan'\n",
        "# T T =  T Not (!)\n",
        "if age != 25 and country == 'Pakistan':\n",
        "  print(\"You are not adult\")\n",
        "else:\n",
        "  print(\"You are adult\")"
      ],
      "metadata": {
        "colab": {
          "base_uri": "https://localhost:8080/"
        },
        "id": "AMRYUvptx93M",
        "outputId": "50bae372-ae85-402c-a35e-53b77e09fefb"
      },
      "execution_count": null,
      "outputs": [
        {
          "output_type": "stream",
          "name": "stdout",
          "text": [
            "You are not a pakistani adult\n",
            "You are adualt Pakistani OR if case\n",
            "You are not adult\n"
          ]
        }
      ]
    },
    {
      "cell_type": "code",
      "source": [
        "list_A= [1,2,3,4,5]\n",
        "\n",
        "if list_A[1]==1:\n",
        "  print(\"True Case\")\n",
        "else:\n",
        "  print(\"False Case\")\n"
      ],
      "metadata": {
        "id": "eDhP6MAu0uN7"
      },
      "execution_count": null,
      "outputs": []
    },
    {
      "cell_type": "code",
      "source": [
        " number = 24\n",
        " # % (Reminder)\n",
        "\n",
        " if number % 2 == 0:\n",
        "   print(\"Even Number\")\n",
        " else:\n",
        "   print(\"Odd Number\")\n"
      ],
      "metadata": {
        "colab": {
          "base_uri": "https://localhost:8080/"
        },
        "id": "M2i8K8k_24_U",
        "outputId": "3c872f85-c8f8-43ec-975e-5925173cb016"
      },
      "execution_count": null,
      "outputs": [
        {
          "output_type": "stream",
          "name": "stdout",
          "text": [
            "Even Number\n"
          ]
        }
      ]
    },
    {
      "cell_type": "code",
      "source": [
        "# list my values check krni ha\n",
        "# index (list hardcode)\n",
        "list_A= [1,2,3,4]\n",
        "\n",
        "if list_A[0] == 1:\n",
        "  print(\"One\")\n",
        "else:\n",
        "  print(\"Not One\")"
      ],
      "metadata": {
        "id": "AqRNWeoW3YC6"
      },
      "execution_count": null,
      "outputs": []
    },
    {
      "cell_type": "code",
      "source": [
        "# dynamic list (value check)\n",
        "\n",
        "cars = ['audi', 'bmw2', 'subaru', 'toyota']\n",
        "for car in cars:\n",
        "  if car == 'bmw':\n",
        "    print(car.upper())\n",
        "  else:\n",
        "    print(car.title())"
      ],
      "metadata": {
        "colab": {
          "base_uri": "https://localhost:8080/"
        },
        "id": "EJon2azE34Oe",
        "outputId": "3e39c7c0-8a13-4c6e-fc75-9aad52134b35"
      },
      "execution_count": null,
      "outputs": [
        {
          "output_type": "stream",
          "name": "stdout",
          "text": [
            "Audi\n",
            "Bmw2\n",
            "Subaru\n",
            "Toyota\n"
          ]
        }
      ]
    },
    {
      "cell_type": "code",
      "source": [
        "cars2 = ['audi', 'bmw2', 'subaru', 'toyota']\n",
        "# in\n",
        "# bmw2 == audi\n",
        "if 'bmw2' in cars2:\n",
        "    print(True)\n",
        "else:\n",
        "    print(False)"
      ],
      "metadata": {
        "colab": {
          "base_uri": "https://localhost:8080/"
        },
        "id": "HTTvvycg4cbJ",
        "outputId": "5907a2d3-4d4d-46d2-fe90-0fa22da68437"
      },
      "execution_count": null,
      "outputs": [
        {
          "output_type": "stream",
          "name": "stdout",
          "text": [
            "True\n"
          ]
        }
      ]
    },
    {
      "cell_type": "code",
      "source": [
        "banned_users = ['andrew', 'carolina', 'david']\n",
        "\n",
        "last_name ='tayyab'\n",
        "\n",
        "#  => ['t','a','y','y','a','b']\n",
        "if 'z' in last_name:\n",
        "  print(\"User\")\n",
        "else:\n",
        "  print(\"Not a user\")"
      ],
      "metadata": {
        "colab": {
          "base_uri": "https://localhost:8080/"
        },
        "id": "m6RakpEG5d5q",
        "outputId": "1f14f497-be8f-46f4-8bf6-fd7e25c51057"
      },
      "execution_count": null,
      "outputs": [
        {
          "output_type": "stream",
          "name": "stdout",
          "text": [
            "Not a user\n"
          ]
        }
      ]
    },
    {
      "cell_type": "markdown",
      "source": [
        "**The if-elif-else Chain**"
      ],
      "metadata": {
        "id": "iCCiGF6I2mO7"
      }
    },
    {
      "cell_type": "code",
      "source": [
        "# if else\n",
        "# if elif (else if) (chain)\n",
        "\n",
        "# if number > 90\n",
        "# if number > 85 and number <90\n",
        "# if\n",
        "\n",
        "# if  number > 90\n",
        "# elif number > 85 and number <90\n",
        "# elif number > 80 and number <85\n",
        "\n",
        "\n",
        "# grading System = > A+ 90 above or equal\n",
        "# 85 or 90 ky between A-\n",
        "# 80 0r 85 ky between b+\n",
        "# 75 0r 80 ky between b-\n",
        "\n",
        "number = 90\n",
        "\n",
        "if number <= 60:\n",
        "    print(\"F\")\n",
        "elif number  >= 85 and number <90:\n",
        "  print(\"A-\")\n",
        "elif number >=90:\n",
        "  print(\"A+\")\n",
        "else:\n",
        "  print(\"invalid number\")\n"
      ],
      "metadata": {
        "colab": {
          "base_uri": "https://localhost:8080/",
          "height": 211
        },
        "id": "25SK0y2k2owF",
        "outputId": "8b3e174f-cfba-436d-d49e-2e4cd4873067"
      },
      "execution_count": null,
      "outputs": [
        {
          "output_type": "error",
          "ename": "TypeError",
          "evalue": "'<=' not supported between instances of 'str' and 'int'",
          "traceback": [
            "\u001b[0;31m---------------------------------------------------------------------------\u001b[0m",
            "\u001b[0;31mTypeError\u001b[0m                                 Traceback (most recent call last)",
            "\u001b[0;32m<ipython-input-54-9aa3739c017e>\u001b[0m in \u001b[0;36m<cell line: 0>\u001b[0;34m()\u001b[0m\n\u001b[1;32m     18\u001b[0m \u001b[0mnumber\u001b[0m \u001b[0;34m=\u001b[0m \u001b[0;34m'wqduhwiqkd'\u001b[0m\u001b[0;34m\u001b[0m\u001b[0;34m\u001b[0m\u001b[0m\n\u001b[1;32m     19\u001b[0m \u001b[0;34m\u001b[0m\u001b[0m\n\u001b[0;32m---> 20\u001b[0;31m \u001b[0;32mif\u001b[0m \u001b[0mnumber\u001b[0m \u001b[0;34m<=\u001b[0m \u001b[0;36m60\u001b[0m\u001b[0;34m:\u001b[0m\u001b[0;34m\u001b[0m\u001b[0;34m\u001b[0m\u001b[0m\n\u001b[0m\u001b[1;32m     21\u001b[0m     \u001b[0mprint\u001b[0m\u001b[0;34m(\u001b[0m\u001b[0;34m\"F\"\u001b[0m\u001b[0;34m)\u001b[0m\u001b[0;34m\u001b[0m\u001b[0;34m\u001b[0m\u001b[0m\n\u001b[1;32m     22\u001b[0m \u001b[0;32melif\u001b[0m \u001b[0mnumber\u001b[0m  \u001b[0;34m>=\u001b[0m \u001b[0;36m85\u001b[0m \u001b[0;32mand\u001b[0m \u001b[0mnumber\u001b[0m \u001b[0;34m<\u001b[0m\u001b[0;36m90\u001b[0m\u001b[0;34m:\u001b[0m\u001b[0;34m\u001b[0m\u001b[0;34m\u001b[0m\u001b[0m\n",
            "\u001b[0;31mTypeError\u001b[0m: '<=' not supported between instances of 'str' and 'int'"
          ]
        }
      ]
    }
  ]
}