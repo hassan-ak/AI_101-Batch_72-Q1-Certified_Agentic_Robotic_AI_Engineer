{
  "nbformat": 4,
  "nbformat_minor": 0,
  "metadata": {
    "colab": {
      "provenance": []
    },
    "kernelspec": {
      "name": "python3",
      "display_name": "Python 3"
    },
    "language_info": {
      "name": "python"
    }
  },
  "cells": [
    {
      "cell_type": "code",
      "execution_count": null,
      "metadata": {
        "colab": {
          "base_uri": "https://localhost:8080/"
        },
        "id": "MGnHeA0of5S8",
        "outputId": "6de4d080-5f98-4358-e717-fafa2a56f5c3"
      },
      "outputs": [
        {
          "output_type": "stream",
          "name": "stdout",
          "text": [
            "Hello Python world!\n"
          ]
        }
      ],
      "source": [
        "print(\"Hello Python world!\")"
      ]
    },
    {
      "cell_type": "markdown",
      "source": [
        "Variables"
      ],
      "metadata": {
        "id": "7iQSUiaWwM92"
      }
    },
    {
      "cell_type": "code",
      "source": [
        "message= True\n",
        "Message\n",
        "mEssage\n",
        "meSsage\n",
        "mesSage\n",
        "print(Message)"
      ],
      "metadata": {
        "colab": {
          "base_uri": "https://localhost:8080/"
        },
        "id": "Uv_aNDnpwOyD",
        "outputId": "27950993-b60e-4557-a328-c6a26fbcb08c"
      },
      "execution_count": null,
      "outputs": [
        {
          "output_type": "stream",
          "name": "stdout",
          "text": [
            "message\n"
          ]
        }
      ]
    },
    {
      "cell_type": "code",
      "source": [
        "name\n",
        "Name23\n",
        "Name_23\n",
        "#2Name # not possible\n",
        "#Name 23\n",
        "fisrt_name= \"Jahanzaib\"\n",
        "last_Name=\"Tayyab\"\n"
      ],
      "metadata": {
        "id": "9wwtplX-xTtN"
      },
      "execution_count": null,
      "outputs": []
    },
    {
      "cell_type": "markdown",
      "source": [
        "String"
      ],
      "metadata": {
        "id": "TF6w1DL17m0w"
      }
    },
    {
      "cell_type": "code",
      "source": [
        "#string values\n",
        "'Hello'\n",
        "\"Hello\"\n",
        "\"\"\"Hello\"\"\"\n",
        "\n",
        "'12e623te5678@#@@$#3'\n",
        "\n",
        "print(\"This is a string.\")\n",
        "print(\"This is a string'2.\")"
      ],
      "metadata": {
        "colab": {
          "base_uri": "https://localhost:8080/"
        },
        "id": "lVvlPmr67n--",
        "outputId": "9f1ec614-ee48-4acf-d7ac-18e1117a5a27"
      },
      "execution_count": null,
      "outputs": [
        {
          "output_type": "stream",
          "name": "stdout",
          "text": [
            "This is a string.\n",
            "This is a string'2.\n"
          ]
        }
      ]
    },
    {
      "cell_type": "code",
      "source": [
        "\"\"\"Hello\"\"\" # doc string (Multi line)\n",
        "\n",
        "multi=\"\"\"Hello's ,\n",
        "This \"is\" multi\"\"\"\n",
        "\n",
        "print(multi)"
      ],
      "metadata": {
        "colab": {
          "base_uri": "https://localhost:8080/"
        },
        "id": "DQgJQijR86UQ",
        "outputId": "00ddfd60-87ea-48ce-d97a-2f2bffbb368f"
      },
      "execution_count": null,
      "outputs": [
        {
          "output_type": "stream",
          "name": "stdout",
          "text": [
            "Hello's ,\n",
            "This \"is\" multi\n"
          ]
        }
      ]
    },
    {
      "cell_type": "code",
      "source": [],
      "metadata": {
        "id": "MD1x_QV5-wBb"
      },
      "execution_count": null,
      "outputs": []
    },
    {
      "cell_type": "code",
      "source": [
        "print('I told my friend, \"\"\"\"\"\"\"\"Python is my favorite language!')"
      ],
      "metadata": {
        "colab": {
          "base_uri": "https://localhost:8080/"
        },
        "id": "J6eTcE_Y-ghd",
        "outputId": "da86bb1f-682a-4a25-bee5-829f489fe342"
      },
      "execution_count": null,
      "outputs": [
        {
          "output_type": "stream",
          "name": "stdout",
          "text": [
            "I told my friend, \"\"\"\"\"\"\"\"Python is my favorite language!\n"
          ]
        }
      ]
    },
    {
      "cell_type": "code",
      "source": [
        "''' Hello '''"
      ],
      "metadata": {
        "colab": {
          "base_uri": "https://localhost:8080/",
          "height": 35
        },
        "id": "rPjO509w-1_K",
        "outputId": "094a7d8a-8263-4e2e-f593-9fe014856748"
      },
      "execution_count": null,
      "outputs": [
        {
          "output_type": "execute_result",
          "data": {
            "text/plain": [
              "' Hello '"
            ],
            "application/vnd.google.colaboratory.intrinsic+json": {
              "type": "string"
            }
          },
          "metadata": {},
          "execution_count": 22
        }
      ]
    },
    {
      "cell_type": "code",
      "source": [
        "\"\"\"Hello\"\"\""
      ],
      "metadata": {
        "colab": {
          "base_uri": "https://localhost:8080/",
          "height": 35
        },
        "id": "iPdTSRzS_Anz",
        "outputId": "38d27561-5f1a-4ec9-be9a-014573a571a6"
      },
      "execution_count": null,
      "outputs": [
        {
          "output_type": "execute_result",
          "data": {
            "text/plain": [
              "'Hello'"
            ],
            "application/vnd.google.colaboratory.intrinsic+json": {
              "type": "string"
            }
          },
          "metadata": {},
          "execution_count": 23
        }
      ]
    },
    {
      "cell_type": "code",
      "source": [
        "name=\"Jahanzaib tayyab\"\n",
        "print(name) # jahanzaib tayyb # JAHANZAIB TAYYAB #Jahanzaib Tayyab"
      ],
      "metadata": {
        "colab": {
          "base_uri": "https://localhost:8080/"
        },
        "id": "77-gPg2u_wy4",
        "outputId": "d42e7d7b-f688-4c1a-9507-77d9e2dc330d"
      },
      "execution_count": null,
      "outputs": [
        {
          "output_type": "stream",
          "name": "stdout",
          "text": [
            "Jahanzaib\n"
          ]
        }
      ]
    },
    {
      "cell_type": "code",
      "source": [
        "print(name.find('j'))"
      ],
      "metadata": {
        "colab": {
          "base_uri": "https://localhost:8080/"
        },
        "id": "XaCN7P1ZAYwW",
        "outputId": "0f336489-7c3a-4e32-ef85-40888888b553"
      },
      "execution_count": null,
      "outputs": [
        {
          "output_type": "stream",
          "name": "stdout",
          "text": [
            "0\n"
          ]
        }
      ]
    },
    {
      "cell_type": "code",
      "source": [
        "()"
      ],
      "metadata": {
        "id": "L_TkbKFVAw_b"
      },
      "execution_count": null,
      "outputs": []
    },
    {
      "cell_type": "code",
      "source": [
        "first_Name=\"Jahanzaib\"\n",
        "last_Name=\"Tayyab\"\n",
        "batch=\"Bacth 72\"\n",
        "\n",
        "# Jahanzaib Tayyab Batch 72\n",
        "\n",
        "print(first_Name)\n",
        "print(last_Name)\n",
        "print(batch)"
      ],
      "metadata": {
        "colab": {
          "base_uri": "https://localhost:8080/"
        },
        "id": "BV7wh2PeCsoT",
        "outputId": "5d779da3-f876-4f11-e014-6a625986bdca"
      },
      "execution_count": null,
      "outputs": [
        {
          "output_type": "stream",
          "name": "stdout",
          "text": [
            "Jahanzaib\n",
            "Tayyab\n",
            "Bacth 72\n"
          ]
        }
      ]
    },
    {
      "cell_type": "code",
      "source": [
        "first_Name=\"Jahanzaib\"\n",
        "last_Name=\"Tayyab\"\n",
        "batch=\"Bacth 72\"\n",
        "\n",
        "# 'Jahanzaib Tayyab Batch 72'\n",
        "\n",
        "# f string f {}\n",
        "print(f\"'{first_Name},{last_Name} \\n,{batch}'\")\n"
      ],
      "metadata": {
        "colab": {
          "base_uri": "https://localhost:8080/"
        },
        "id": "FIpcmgquDDtK",
        "outputId": "a33c2bd2-3cfc-4bc3-e2f7-6fa06b9d41f6"
      },
      "execution_count": null,
      "outputs": [
        {
          "output_type": "stream",
          "name": "stdout",
          "text": [
            "'Jahanzaib,Tayyab \n",
            ",Bacth 72'\n"
          ]
        }
      ]
    },
    {
      "cell_type": "code",
      "source": [
        "name= \"Jahanzaib \\n Tayy\\nab\" # \\n (new line)\n",
        "print(name)"
      ],
      "metadata": {
        "colab": {
          "base_uri": "https://localhost:8080/"
        },
        "id": "ZFLUT7LgDQUw",
        "outputId": "4761ea3f-8a75-4702-9052-5386437ce23e"
      },
      "execution_count": null,
      "outputs": [
        {
          "output_type": "stream",
          "name": "stdout",
          "text": [
            "Jahanzaib \n",
            " Tayy\n",
            "ab\n"
          ]
        }
      ]
    },
    {
      "cell_type": "code",
      "source": [
        "name= \"Jahanzaib.  \\t\\nTayy\\tab\" # \\t (8 Char. space)\n",
        "print(name)"
      ],
      "metadata": {
        "colab": {
          "base_uri": "https://localhost:8080/"
        },
        "id": "ChGFZYYtFNKN",
        "outputId": "18e6e185-0890-4e47-f36d-5c2247fe10d0"
      },
      "execution_count": null,
      "outputs": [
        {
          "output_type": "stream",
          "name": "stdout",
          "text": [
            "Jahanzaib\t\n",
            "Tayy\tab\n"
          ]
        }
      ]
    },
    {
      "cell_type": "code",
      "source": [
        " language = '    A              python      '\n",
        " print(language.strip()) # rstrip # lstrip #strip"
      ],
      "metadata": {
        "colab": {
          "base_uri": "https://localhost:8080/"
        },
        "id": "LFzzqi8FGaaR",
        "outputId": "fae094f1-f9ac-45f8-fec7-2da1db3fc578"
      },
      "execution_count": null,
      "outputs": [
        {
          "output_type": "stream",
          "name": "stdout",
          "text": [
            "A              python\n"
          ]
        }
      ]
    },
    {
      "cell_type": "markdown",
      "source": [
        "Numbers\n",
        "\n",
        "\n",
        "1.   Integer (2,3,4,5)\n",
        "2.   Float (2.3,4.5)\n",
        "\n"
      ],
      "metadata": {
        "id": "jxL-VNEIIBrJ"
      }
    },
    {
      "cell_type": "code",
      "source": [
        "num1=2 # integer\n",
        "num2=3.0 # float\n",
        "\n",
        "print(num1,num2)\n",
        "\n",
        "# add num1 + num2 2+3 = 5\n",
        "# subtrict num1 - num2 2-3 = -1\n",
        "# multi num1 * num2 2*3 = 6\n",
        "# divide num1 / num2 2/3 = 0.6666666666666666\n",
        "# power num1**num2 = 8"
      ],
      "metadata": {
        "colab": {
          "base_uri": "https://localhost:8080/"
        },
        "id": "elumo4WYIBdY",
        "outputId": "492578c9-dea5-4674-f050-f9d44b279d08"
      },
      "execution_count": null,
      "outputs": [
        {
          "output_type": "stream",
          "name": "stdout",
          "text": [
            "2 3.0\n"
          ]
        }
      ]
    },
    {
      "cell_type": "code",
      "source": [
        "print( (2 - 3) * 4 +3 )\n"
      ],
      "metadata": {
        "colab": {
          "base_uri": "https://localhost:8080/"
        },
        "id": "yp-FkSAFJGnP",
        "outputId": "f730f635-1d27-48a7-a448-26fa4815f1a4"
      },
      "execution_count": null,
      "outputs": [
        {
          "output_type": "stream",
          "name": "stdout",
          "text": [
            "-1\n"
          ]
        }
      ]
    },
    {
      "cell_type": "markdown",
      "source": [
        "List"
      ],
      "metadata": {
        "id": "jnSCiSmzMx_k"
      }
    },
    {
      "cell_type": "code",
      "source": [
        "# hamesha []\n",
        "# values store by index\n",
        "# index start from 0\n",
        "# list ky ander kese bi trha ka data store kr skty ha (string , number , boolean , flat, mixer)\n",
        "# list dynamiclly grow or shrink"
      ],
      "metadata": {
        "id": "0h9FxGfxMypF"
      },
      "execution_count": null,
      "outputs": []
    },
    {
      "cell_type": "code",
      "source": [
        "bicycles1 = 'A'\n",
        "bicycles2='B'\n",
        "bicycles3='C'\n",
        "#print(bicycles1)\n",
        "#print(bicycles2)\n",
        "#print(bicycles3)\n",
        "\n",
        "bicycles = [\"A\",\"B\",\"C\",\"D\"]\n",
        "\n",
        "print(bicycles)\n",
        "\n",
        "#index based values\n",
        "# listName[index]\n",
        "# index (posistive , neg.)\n",
        "\n",
        "print(bicycles[1].lower())"
      ],
      "metadata": {
        "colab": {
          "base_uri": "https://localhost:8080/"
        },
        "id": "JU1GaCGwNyJO",
        "outputId": "d8ebb1c5-2e54-43cf-f17f-ba6d2630a2ee"
      },
      "execution_count": null,
      "outputs": [
        {
          "output_type": "stream",
          "name": "stdout",
          "text": [
            "['A', 'B', 'C', 'D']\n",
            "b\n"
          ]
        }
      ]
    },
    {
      "cell_type": "code",
      "source": [
        "# list values add\\remove\n",
        "\n",
        "#method value add (append)\n",
        "# method value remove (remove)"
      ],
      "metadata": {
        "id": "2CDDtIwUQnlv"
      },
      "execution_count": null,
      "outputs": []
    },
    {
      "cell_type": "code",
      "source": [
        "bicycles.append(\"E\")\n",
        "bicycles.append(\"F\")\n",
        "\n",
        "print(bicycles)\n",
        "\n",
        "bicycles.remove(\"F\")\n",
        "\n",
        "print(bicycles)"
      ],
      "metadata": {
        "colab": {
          "base_uri": "https://localhost:8080/"
        },
        "id": "i3Psj3qiQ_Uz",
        "outputId": "6ee8c106-ca9c-464f-9bb4-44e0120d6ee0"
      },
      "execution_count": null,
      "outputs": [
        {
          "output_type": "stream",
          "name": "stdout",
          "text": [
            "['B', 'C', 'D', 'E', 'E', 'F', 'E', 'F', 'E', 'F', 'E', 'F']\n",
            "['B', 'C', 'D', 'E', 'E', 'E', 'F', 'E', 'F', 'E', 'F']\n"
          ]
        }
      ]
    }
  ]
}